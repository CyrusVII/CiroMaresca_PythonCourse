{
 "cells": [
  {
   "cell_type": "code",
   "execution_count": 1,
   "id": "37cba4a6",
   "metadata": {},
   "outputs": [],
   "source": [
    "import numpy as np\n",
    "from sklearn.datasets import load_iris\n",
    "from sklearn.linear_model import Perceptron\n",
    "\n",
    "# Carica il dataset Iris come DataFrame\n",
    "iris = load_iris(as_frame=True)\n",
    "# Seleziona solo le feature \"petal length\" e \"petal width\"\n",
    "X = iris.data[[\"petal length (cm)\", \"petal width (cm)\"]].values\n",
    "# Crea il target binario: True se è \"Iris-setosa\", altrimenti False\n",
    "y = (iris.target == 0)\n",
    "# Inizializza il modello Perceptron con un seed fisso per la riproducibilità\n",
    "per_clf = Perceptron(random_state=42)\n",
    "# Allena il Perceptron sui dati selezionati\n",
    "per_clf.fit(X, y)\n",
    "# Nuovi esempi da classificare (lunghezza e larghezza del petalo)\n",
    "X_new = [[2, 0.5], [3, 1]]\n",
    "# Predice se i nuovi fiori sono \"Iris-setosa\" (True) o no (False)\n",
    "y_pred = per_clf.predict(X_new)\n",
    "\n",
    "\n"
   ]
  },
  {
   "cell_type": "code",
   "execution_count": 4,
   "id": "9ceefba6",
   "metadata": {},
   "outputs": [
    {
     "name": "stdout",
     "output_type": "stream",
     "text": [
      "Root Mean Squared Error (Validation): 0.505\n"
     ]
    }
   ],
   "source": [
    "from sklearn.datasets import fetch_california_housing\n",
    "from sklearn.model_selection import train_test_split\n",
    "from sklearn.neural_network import MLPRegressor\n",
    "from sklearn.pipeline import make_pipeline\n",
    "from sklearn.preprocessing import StandardScaler\n",
    "from sklearn.metrics import mean_squared_error\n",
    "from math import sqrt\n",
    "\n",
    "# --- Caricamento del dataset California Housing ---\n",
    "housing = fetch_california_housing()\n",
    "X = housing.data            # Feature (es. numero di stanze, popolazione, ecc.)\n",
    "y = housing.target          # Target: valore medio delle case in una zona\n",
    "\n",
    "# --- Suddivisione dei dati in training, validation e test ---\n",
    "X_train_full, X_test, y_train_full, y_test = train_test_split(X, y, random_state=42)  # 75% train+valid, 25% test\n",
    "X_train, X_valid, y_train, y_valid = train_test_split(X_train_full, y_train_full, random_state=42)  # 56.25% train, 18.75% valid\n",
    "\n",
    "# --- Definizione del modello MLP ---\n",
    "mlp_reg = MLPRegressor(\n",
    "    hidden_layer_sizes=[50, 50, 50],  # Tre hidden layer da 50 neuroni ciascuno\n",
    "    activation='relu',                # Funzione di attivazione ReLU\n",
    "    solver='adam',                    # Ottimizzatore Adam\n",
    "    alpha=0.0001,                     # Termina di regolarizzazione L2 (per evitare overfitting)\n",
    "    max_iter=500,                     # Iterazioni massime\n",
    "    random_state=42                   # Seed per riproducibilità\n",
    ")\n",
    "\n",
    "# --- Creazione della pipeline ---\n",
    "# Include uno StandardScaler per normalizzare le feature (molto importante per MLP)\n",
    "pipeline = make_pipeline(StandardScaler(), mlp_reg)\n",
    "\n",
    "# --- Addestramento del modello ---\n",
    "pipeline.fit(X_train, y_train)\n",
    "\n",
    "# --- Predizione e valutazione sul validation set ---\n",
    "y_pred = pipeline.predict(X_valid)                                  # Predizioni sul set di validazione\n",
    "rmse = sqrt(mean_squared_error(y_valid, y_pred))          # Calcolo della Root Mean Squared Error\n",
    "\n",
    "# --- Stampa dell'errore ---\n",
    "print(f\"Root Mean Squared Error (Validation): {rmse:.3f}\")"
   ]
  },
  {
   "cell_type": "code",
   "execution_count": 7,
   "id": "25fc55f6",
   "metadata": {},
   "outputs": [
    {
     "data": {
      "image/png": "[encoded data removed]",
      "text/plain": [
       "<Figure size 640x480 with 1 Axes>"
      ]
     },
     "metadata": {},
     "output_type": "display_data"
    }
   ],
   "source": [
    "import tensorflow as tf  # Importa TensorFlow, una libreria per costruire e addestrare reti neurali\n",
    "\n",
    "# --- Caricamento del dataset Fashion MNIST ---\n",
    "# Fashion MNIST è un dataset con immagini 28x28 pixel in scala di grigi di vestiti (10 categorie)\n",
    "fashion_mnist = tf.keras.datasets.fashion_mnist.load_data()\n",
    "\n",
    "# Carica i dati e li divide in set di training e test\n",
    "(X_train_full, y_train_full), (X_test, y_test) = fashion_mnist\n",
    "\n",
    "# --- Suddivisione in sottoinsiemi: training e validation ---\n",
    "# Prende tutti i dati tranne gli ultimi 5000 per addestrare (training)\n",
    "X_train, y_train = X_train_full[:-5000], y_train_full[:-5000]\n",
    "\n",
    "# Gli ultimi 5000 dati vengono usati per la validazione (validation)\n",
    "X_valid, y_valid = X_train_full[-5000:], y_train_full[-5000:]\n",
    "\n",
    "# --- Normalizzazione dei pixel ---\n",
    "# I pixel vanno da 0 a 255: qui li convertiamo in valori da 0.0 a 1.0 (per aiutare l'apprendimento)\n",
    "X_train = X_train / 255.0\n",
    "X_valid = X_valid / 255.0\n",
    "X_test = X_test / 255.0\n",
    "\n",
    "# --- Etichette delle classi ---\n",
    "# Questo array associa il numero di ogni etichetta (0-9) al nome del capo d'abbigliamento\n",
    "class_names = [\"T-shirt/top\", \"Trouser\", \"Pullover\", \"Dress\", \"Coat\",\n",
    "                \"Sandal\", \"Shirt\", \"Sneaker\", \"Bag\", \"Ankle boot\"]\n",
    "\n",
    "# --- Visualizzazione della prima etichetta del training set ---\n",
    "# Questa riga mostra il nome del capo corrispondente alla prima immagine del training set\n",
    "class_names[y_train[0]]\n",
    "\n",
    "#per vedere l immagine associata\n",
    "import matplotlib.pyplot as plt\n",
    "plt.imshow(X_train[0], cmap=\"gray\")\n",
    "plt.title(class_names[y_train[0]])\n",
    "plt.axis(\"off\")\n",
    "plt.show()"
   ]
  },
  {
   "cell_type": "code",
   "execution_count": 9,
   "id": "e87a13b2",
   "metadata": {},
   "outputs": [
    {
     "data": {
      "text/html": [
       "<pre style=\"white-space:pre;overflow-x:auto;line-height:normal;font-family:Menlo,'DejaVu Sans Mono',consolas,'Courier New',monospace\"><span style=\"font-weight: bold\">Model: \"sequential_1\"</span>\n",
       "</pre>\n"
      ],
      "text/plain": [
       "\u001b[1mModel: \"sequential_1\"\u001b[0m\n"
      ]
     },
     "metadata": {},
     "output_type": "display_data"
    },
    {
     "data": {
      "text/html": [
       "<pre style=\"white-space:pre;overflow-x:auto;line-height:normal;font-family:Menlo,'DejaVu Sans Mono',consolas,'Courier New',monospace\">┏━━━━━━━━━━━━━━━━━━━━━━━━━━━━━━━━━┳━━━━━━━━━━━━━━━━━━━━━━━━┳━━━━━━━━━━━━━━━┓\n",
       "┃<span style=\"font-weight: bold\"> Layer (type)                    </span>┃<span style=\"font-weight: bold\"> Output Shape           </span>┃<span style=\"font-weight: bold\">       Param # </span>┃\n",
       "┡━━━━━━━━━━━━━━━━━━━━━━━━━━━━━━━━━╇━━━━━━━━━━━━━━━━━━━━━━━━╇━━━━━━━━━━━━━━━┩\n",
       "│ flatten_1 (<span style=\"color: #0087ff; text-decoration-color: #0087ff\">Flatten</span>)             │ (<span style=\"color: #00d7ff; text-decoration-color: #00d7ff\">None</span>, <span style=\"color: #00af00; text-decoration-color: #00af00\">784</span>)            │             <span style=\"color: #00af00; text-decoration-color: #00af00\">0</span> │\n",
       "├─────────────────────────────────┼────────────────────────┼───────────────┤\n",
       "│ dense_3 (<span style=\"color: #0087ff; text-decoration-color: #0087ff\">Dense</span>)                 │ (<span style=\"color: #00d7ff; text-decoration-color: #00d7ff\">None</span>, <span style=\"color: #00af00; text-decoration-color: #00af00\">300</span>)            │       <span style=\"color: #00af00; text-decoration-color: #00af00\">235,500</span> │\n",
       "├─────────────────────────────────┼────────────────────────┼───────────────┤\n",
       "│ dense_4 (<span style=\"color: #0087ff; text-decoration-color: #0087ff\">Dense</span>)                 │ (<span style=\"color: #00d7ff; text-decoration-color: #00d7ff\">None</span>, <span style=\"color: #00af00; text-decoration-color: #00af00\">100</span>)            │        <span style=\"color: #00af00; text-decoration-color: #00af00\">30,100</span> │\n",
       "├─────────────────────────────────┼────────────────────────┼───────────────┤\n",
       "│ dense_5 (<span style=\"color: #0087ff; text-decoration-color: #0087ff\">Dense</span>)                 │ (<span style=\"color: #00d7ff; text-decoration-color: #00d7ff\">None</span>, <span style=\"color: #00af00; text-decoration-color: #00af00\">10</span>)             │         <span style=\"color: #00af00; text-decoration-color: #00af00\">1,010</span> │\n",
       "└─────────────────────────────────┴────────────────────────┴───────────────┘\n",
       "</pre>\n"
      ],
      "text/plain": [
       "┏━━━━━━━━━━━━━━━━━━━━━━━━━━━━━━━━━┳━━━━━━━━━━━━━━━━━━━━━━━━┳━━━━━━━━━━━━━━━┓\n",
       "┃\u001b[1m \u001b[0m\u001b[1mLayer (type)                   \u001b[0m\u001b[1m \u001b[0m┃\u001b[1m \u001b[0m\u001b[1mOutput Shape          \u001b[0m\u001b[1m \u001b[0m┃\u001b[1m \u001b[0m\u001b[1m      Param #\u001b[0m\u001b[1m \u001b[0m┃\n",
       "┡━━━━━━━━━━━━━━━━━━━━━━━━━━━━━━━━━╇━━━━━━━━━━━━━━━━━━━━━━━━╇━━━━━━━━━━━━━━━┩\n",
       "│ flatten_1 (\u001b[38;5;33mFlatten\u001b[0m)             │ (\u001b[38;5;45mNone\u001b[0m, \u001b[38;5;34m784\u001b[0m)            │             \u001b[38;5;34m0\u001b[0m │\n",
       "├─────────────────────────────────┼────────────────────────┼───────────────┤\n",
       "│ dense_3 (\u001b[38;5;33mDense\u001b[0m)                 │ (\u001b[38;5;45mNone\u001b[0m, \u001b[38;5;34m300\u001b[0m)            │       \u001b[38;5;34m235,500\u001b[0m │\n",
       "├─────────────────────────────────┼────────────────────────┼───────────────┤\n",
       "│ dense_4 (\u001b[38;5;33mDense\u001b[0m)                 │ (\u001b[38;5;45mNone\u001b[0m, \u001b[38;5;34m100\u001b[0m)            │        \u001b[38;5;34m30,100\u001b[0m │\n",
       "├─────────────────────────────────┼────────────────────────┼───────────────┤\n",
       "│ dense_5 (\u001b[38;5;33mDense\u001b[0m)                 │ (\u001b[38;5;45mNone\u001b[0m, \u001b[38;5;34m10\u001b[0m)             │         \u001b[38;5;34m1,010\u001b[0m │\n",
       "└─────────────────────────────────┴────────────────────────┴───────────────┘\n"
      ]
     },
     "metadata": {},
     "output_type": "display_data"
    },
    {
     "data": {
      "text/html": [
       "<pre style=\"white-space:pre;overflow-x:auto;line-height:normal;font-family:Menlo,'DejaVu Sans Mono',consolas,'Courier New',monospace\"><span style=\"font-weight: bold\"> Total params: </span><span style=\"color: #00af00; text-decoration-color: #00af00\">266,610</span> (1.02 MB)\n",
       "</pre>\n"
      ],
      "text/plain": [
       "\u001b[1m Total params: \u001b[0m\u001b[38;5;34m266,610\u001b[0m (1.02 MB)\n"
      ]
     },
     "metadata": {},
     "output_type": "display_data"
    },
    {
     "data": {
      "text/html": [
       "<pre style=\"white-space:pre;overflow-x:auto;line-height:normal;font-family:Menlo,'DejaVu Sans Mono',consolas,'Courier New',monospace\"><span style=\"font-weight: bold\"> Trainable params: </span><span style=\"color: #00af00; text-decoration-color: #00af00\">266,610</span> (1.02 MB)\n",
       "</pre>\n"
      ],
      "text/plain": [
       "\u001b[1m Trainable params: \u001b[0m\u001b[38;5;34m266,610\u001b[0m (1.02 MB)\n"
      ]
     },
     "metadata": {},
     "output_type": "display_data"
    },
    {
     "data": {
      "text/html": [
       "<pre style=\"white-space:pre;overflow-x:auto;line-height:normal;font-family:Menlo,'DejaVu Sans Mono',consolas,'Courier New',monospace\"><span style=\"font-weight: bold\"> Non-trainable params: </span><span style=\"color: #00af00; text-decoration-color: #00af00\">0</span> (0.00 B)\n",
       "</pre>\n"
      ],
      "text/plain": [
       "\u001b[1m Non-trainable params: \u001b[0m\u001b[38;5;34m0\u001b[0m (0.00 B)\n"
      ]
     },
     "metadata": {},
     "output_type": "display_data"
    }
   ],
   "source": [
    "import tensorflow as tf  # Importa TensorFlow\n",
    "\n",
    "tf.random.set_seed(42)  # Imposta un seme per la casualità (utile per ripetere gli stessi risultati)\n",
    "\n",
    "# --- Definizione del modello neurale ---\n",
    "model = tf.keras.Sequential([\n",
    "    tf.keras.Input(shape=(28, 28)),         # Input: immagini 28x28 (come nel dataset Fashion MNIST)\n",
    "    \n",
    "    tf.keras.layers.Flatten(),              # Appiattisce l'immagine 28x28 in un vettore di 784 valori (28*28)\n",
    "    \n",
    "    tf.keras.layers.Dense(300, activation=\"relu\"),  # Primo strato pienamente connesso (dense) con 300 neuroni e ReLU\n",
    "    tf.keras.layers.Dense(100, activation=\"relu\"),  # Secondo strato denso con 100 neuroni e ReLU\n",
    "    \n",
    "    tf.keras.layers.Dense(10, activation=\"softmax\") # Output: 10 neuroni (uno per ogni classe), softmax per probabilità\n",
    "])\n",
    "\n",
    "# --- Mostra un riepilogo del modello ---\n",
    "model.summary()  # Stampa la struttura del modello: numero di parametri, forma degli strati, ecc.\n"
   ]
  }
 ],
 "metadata": {
  "kernelspec": {
   "display_name": ".venv",
   "language": "python",
   "name": "python3"
  },
  "language_info": {
   "codemirror_mode": {
    "name": "ipython",
    "version": 3
   },
   "file_extension": ".py",
   "mimetype": "text/x-python",
   "name": "python",
   "nbconvert_exporter": "python",
   "pygments_lexer": "ipython3",
   "version": "3.11.9"
  }
 },
 "nbformat": 4,
 "nbformat_minor": 5
}
